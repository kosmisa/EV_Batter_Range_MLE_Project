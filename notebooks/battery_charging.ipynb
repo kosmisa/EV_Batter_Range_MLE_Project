{
 "cells": [
  {
   "cell_type": "markdown",
   "id": "a829b949",
   "metadata": {},
   "source": [
    "# Battery Charging Analysis for EV"
   ]
  },
  {
   "cell_type": "markdown",
   "id": "06ca4bf9",
   "metadata": {},
   "source": [
    "In this notebook the main goal will be to analyze battery behavior and how it affects the performance over time.\n",
    "\n",
    "Focus will be on the following aspects:\n",
    "1. Battery capacity degradation\n",
    "2. Battery life cycle analysis\n",
    "3. Environemental impact of battery performance (temperature, humidity, etc.)\n",
    "4. Range of EV based on battery performance (if this can be determined from the data)"
   ]
  },
  {
   "cell_type": "markdown",
   "id": "32687291",
   "metadata": {},
   "source": [
    "## First to import necessary libraries that will be needed for analysis.\n",
    "\n",
    "    1. Pandas library used for data manipulation.\n",
    "    2. numpy library that support numerical operations (especcially with arrays and matrices) in python.\n",
    "    3. Seaborn is statistical library built on top of matplotlib for visualization.\n",
    "    4. Matplotlib ploting library used for static visualization in python.\n",
    "    5. Plotly for creation of interactive visualization in python.\n",
    "    6. OS library to provide a way to interact with operating system which allow us to interact with env variables and file system in a platform independant way."
   ]
  },
  {
   "cell_type": "code",
   "execution_count": 1,
   "id": "ef66bee4",
   "metadata": {},
   "outputs": [],
   "source": [
    "import pandas as pd\n",
    "import numpy as np\n",
    "import seaborn as sns\n",
    "import matplotlib.pyplot as plt\n",
    "import plotly.express as px\n",
    "\n",
    "import os\n"
   ]
  },
  {
   "cell_type": "markdown",
   "id": "aec43879",
   "metadata": {},
   "source": [
    "* Now we should load data to support environment dynamic path"
   ]
  },
  {
   "cell_type": "code",
   "execution_count": 10,
   "id": "ed6d3e13",
   "metadata": {},
   "outputs": [],
   "source": [
    "# os.environ[\"PROJECT_DIR\"] = 'something_path' # Cghange this path to your project directory.\n",
    "\n",
    "file_path = os.path.join('..', 'data', 'raw', 'EV-BAT-CHARGING', 'ev_battery_charging_data.csv')"
   ]
  },
  {
   "cell_type": "code",
   "execution_count": 11,
   "id": "9269b455",
   "metadata": {},
   "outputs": [],
   "source": [
    "ev_population_df = pd.read_csv(file_path)"
   ]
  },
  {
   "cell_type": "markdown",
   "id": "55437dfb",
   "metadata": {},
   "source": [
    "### 1.0 Now to get Basic info on our dataset!"
   ]
  },
  {
   "cell_type": "code",
   "execution_count": 12,
   "id": "10058428",
   "metadata": {},
   "outputs": [
    {
     "data": {
      "text/html": [
       "<div>\n",
       "<style scoped>\n",
       "    .dataframe tbody tr th:only-of-type {\n",
       "        vertical-align: middle;\n",
       "    }\n",
       "\n",
       "    .dataframe tbody tr th {\n",
       "        vertical-align: top;\n",
       "    }\n",
       "\n",
       "    .dataframe thead th {\n",
       "        text-align: right;\n",
       "    }\n",
       "</style>\n",
       "<table border=\"1\" class=\"dataframe\">\n",
       "  <thead>\n",
       "    <tr style=\"text-align: right;\">\n",
       "      <th></th>\n",
       "      <th>SOC (%)</th>\n",
       "      <th>Voltage (V)</th>\n",
       "      <th>Current (A)</th>\n",
       "      <th>Battery Temp (°C)</th>\n",
       "      <th>Ambient Temp (°C)</th>\n",
       "      <th>Charging Duration (min)</th>\n",
       "      <th>Degradation Rate (%)</th>\n",
       "      <th>Charging Mode</th>\n",
       "      <th>Efficiency (%)</th>\n",
       "      <th>Battery Type</th>\n",
       "      <th>Charging Cycles</th>\n",
       "      <th>EV Model</th>\n",
       "      <th>Optimal Charging Duration Class</th>\n",
       "    </tr>\n",
       "  </thead>\n",
       "  <tbody>\n",
       "    <tr>\n",
       "      <th>0</th>\n",
       "      <td>43.708611</td>\n",
       "      <td>3.629593</td>\n",
       "      <td>33.553512</td>\n",
       "      <td>33.454060</td>\n",
       "      <td>26.439918</td>\n",
       "      <td>59.363552</td>\n",
       "      <td>8.805096</td>\n",
       "      <td>Fast</td>\n",
       "      <td>98.238981</td>\n",
       "      <td>Li-ion</td>\n",
       "      <td>112</td>\n",
       "      <td>Model B</td>\n",
       "      <td>1</td>\n",
       "    </tr>\n",
       "    <tr>\n",
       "      <th>1</th>\n",
       "      <td>95.564288</td>\n",
       "      <td>3.879331</td>\n",
       "      <td>32.228092</td>\n",
       "      <td>35.933628</td>\n",
       "      <td>31.108647</td>\n",
       "      <td>67.343566</td>\n",
       "      <td>12.186860</td>\n",
       "      <td>Fast</td>\n",
       "      <td>97.562628</td>\n",
       "      <td>LiFePO4</td>\n",
       "      <td>398</td>\n",
       "      <td>Model A</td>\n",
       "      <td>1</td>\n",
       "    </tr>\n",
       "    <tr>\n",
       "      <th>2</th>\n",
       "      <td>75.879455</td>\n",
       "      <td>4.111062</td>\n",
       "      <td>91.562912</td>\n",
       "      <td>25.009358</td>\n",
       "      <td>30.203219</td>\n",
       "      <td>105.454739</td>\n",
       "      <td>13.832336</td>\n",
       "      <td>Slow</td>\n",
       "      <td>97.233533</td>\n",
       "      <td>LiFePO4</td>\n",
       "      <td>175</td>\n",
       "      <td>Model A</td>\n",
       "      <td>2</td>\n",
       "    </tr>\n",
       "    <tr>\n",
       "      <th>3</th>\n",
       "      <td>63.879264</td>\n",
       "      <td>4.012557</td>\n",
       "      <td>32.459158</td>\n",
       "      <td>32.497482</td>\n",
       "      <td>18.077998</td>\n",
       "      <td>54.000439</td>\n",
       "      <td>9.318874</td>\n",
       "      <td>Fast</td>\n",
       "      <td>98.136225</td>\n",
       "      <td>LiFePO4</td>\n",
       "      <td>150</td>\n",
       "      <td>Model B</td>\n",
       "      <td>1</td>\n",
       "    </tr>\n",
       "    <tr>\n",
       "      <th>4</th>\n",
       "      <td>24.041678</td>\n",
       "      <td>4.064593</td>\n",
       "      <td>34.475475</td>\n",
       "      <td>31.434920</td>\n",
       "      <td>17.984989</td>\n",
       "      <td>106.964968</td>\n",
       "      <td>11.687577</td>\n",
       "      <td>Fast</td>\n",
       "      <td>97.662485</td>\n",
       "      <td>Li-ion</td>\n",
       "      <td>886</td>\n",
       "      <td>Model C</td>\n",
       "      <td>2</td>\n",
       "    </tr>\n",
       "  </tbody>\n",
       "</table>\n",
       "</div>"
      ],
      "text/plain": [
       "     SOC (%)  Voltage (V)  Current (A)  Battery Temp (°C)  Ambient Temp (°C)  \\\n",
       "0  43.708611     3.629593    33.553512          33.454060          26.439918   \n",
       "1  95.564288     3.879331    32.228092          35.933628          31.108647   \n",
       "2  75.879455     4.111062    91.562912          25.009358          30.203219   \n",
       "3  63.879264     4.012557    32.459158          32.497482          18.077998   \n",
       "4  24.041678     4.064593    34.475475          31.434920          17.984989   \n",
       "\n",
       "   Charging Duration (min)  Degradation Rate (%) Charging Mode  \\\n",
       "0                59.363552              8.805096          Fast   \n",
       "1                67.343566             12.186860          Fast   \n",
       "2               105.454739             13.832336          Slow   \n",
       "3                54.000439              9.318874          Fast   \n",
       "4               106.964968             11.687577          Fast   \n",
       "\n",
       "   Efficiency (%) Battery Type  Charging Cycles EV Model  \\\n",
       "0       98.238981       Li-ion              112  Model B   \n",
       "1       97.562628      LiFePO4              398  Model A   \n",
       "2       97.233533      LiFePO4              175  Model A   \n",
       "3       98.136225      LiFePO4              150  Model B   \n",
       "4       97.662485       Li-ion              886  Model C   \n",
       "\n",
       "   Optimal Charging Duration Class  \n",
       "0                                1  \n",
       "1                                1  \n",
       "2                                2  \n",
       "3                                1  \n",
       "4                                2  "
      ]
     },
     "execution_count": 12,
     "metadata": {},
     "output_type": "execute_result"
    }
   ],
   "source": [
    "ev_population_df.head()"
   ]
  },
  {
   "cell_type": "markdown",
   "id": "f7777d24",
   "metadata": {},
   "source": [
    "* Now to check the shape of the dataframe."
   ]
  },
  {
   "cell_type": "code",
   "execution_count": 13,
   "id": "7e795d8d",
   "metadata": {},
   "outputs": [
    {
     "data": {
      "text/plain": [
       "(1000, 13)"
      ]
     },
     "execution_count": 13,
     "metadata": {},
     "output_type": "execute_result"
    }
   ],
   "source": [
    "ev_population_df.shape"
   ]
  },
  {
   "cell_type": "markdown",
   "id": "13124c77",
   "metadata": {},
   "source": [
    "* Lets see for missing values in the dataset and types of data we have (general info)."
   ]
  },
  {
   "cell_type": "code",
   "execution_count": 14,
   "id": "27df0e7d",
   "metadata": {},
   "outputs": [
    {
     "name": "stdout",
     "output_type": "stream",
     "text": [
      "<class 'pandas.core.frame.DataFrame'>\n",
      "RangeIndex: 1000 entries, 0 to 999\n",
      "Data columns (total 13 columns):\n",
      " #   Column                           Non-Null Count  Dtype  \n",
      "---  ------                           --------------  -----  \n",
      " 0   SOC (%)                          1000 non-null   float64\n",
      " 1   Voltage (V)                      1000 non-null   float64\n",
      " 2   Current (A)                      1000 non-null   float64\n",
      " 3   Battery Temp (°C)                1000 non-null   float64\n",
      " 4   Ambient Temp (°C)                1000 non-null   float64\n",
      " 5   Charging Duration (min)          1000 non-null   float64\n",
      " 6   Degradation Rate (%)             1000 non-null   float64\n",
      " 7   Charging Mode                    1000 non-null   object \n",
      " 8   Efficiency (%)                   1000 non-null   float64\n",
      " 9   Battery Type                     1000 non-null   object \n",
      " 10  Charging Cycles                  1000 non-null   int64  \n",
      " 11  EV Model                         1000 non-null   object \n",
      " 12  Optimal Charging Duration Class  1000 non-null   int64  \n",
      "dtypes: float64(8), int64(2), object(3)\n",
      "memory usage: 101.7+ KB\n"
     ]
    }
   ],
   "source": [
    "ev_population_df.info()"
   ]
  },
  {
   "cell_type": "markdown",
   "id": "2625c729",
   "metadata": {},
   "source": [
    "* As it can be seen we have mixing data types and some missing values.\n"
   ]
  },
  {
   "cell_type": "markdown",
   "id": "d434e678",
   "metadata": {},
   "source": [
    "* And for the last we could get general statiscits of our dataset."
   ]
  },
  {
   "cell_type": "code",
   "execution_count": 7,
   "id": "dd516aba",
   "metadata": {},
   "outputs": [
    {
     "data": {
      "text/html": [
       "<div>\n",
       "<style scoped>\n",
       "    .dataframe tbody tr th:only-of-type {\n",
       "        vertical-align: middle;\n",
       "    }\n",
       "\n",
       "    .dataframe tbody tr th {\n",
       "        vertical-align: top;\n",
       "    }\n",
       "\n",
       "    .dataframe thead th {\n",
       "        text-align: right;\n",
       "    }\n",
       "</style>\n",
       "<table border=\"1\" class=\"dataframe\">\n",
       "  <thead>\n",
       "    <tr style=\"text-align: right;\">\n",
       "      <th></th>\n",
       "      <th>Postal Code</th>\n",
       "      <th>Model Year</th>\n",
       "      <th>Electric Range</th>\n",
       "      <th>Base MSRP</th>\n",
       "      <th>Legislative District</th>\n",
       "      <th>DOL Vehicle ID</th>\n",
       "      <th>2020 Census Tract</th>\n",
       "    </tr>\n",
       "  </thead>\n",
       "  <tbody>\n",
       "    <tr>\n",
       "      <th>count</th>\n",
       "      <td>177861.000000</td>\n",
       "      <td>177866.000000</td>\n",
       "      <td>177866.000000</td>\n",
       "      <td>177866.000000</td>\n",
       "      <td>177477.000000</td>\n",
       "      <td>1.778660e+05</td>\n",
       "      <td>1.778610e+05</td>\n",
       "    </tr>\n",
       "    <tr>\n",
       "      <th>mean</th>\n",
       "      <td>98172.453506</td>\n",
       "      <td>2020.515512</td>\n",
       "      <td>58.842162</td>\n",
       "      <td>1073.109363</td>\n",
       "      <td>29.127481</td>\n",
       "      <td>2.202313e+08</td>\n",
       "      <td>5.297672e+10</td>\n",
       "    </tr>\n",
       "    <tr>\n",
       "      <th>std</th>\n",
       "      <td>2442.450668</td>\n",
       "      <td>2.989384</td>\n",
       "      <td>91.981298</td>\n",
       "      <td>8358.624956</td>\n",
       "      <td>14.892169</td>\n",
       "      <td>7.584987e+07</td>\n",
       "      <td>1.578047e+09</td>\n",
       "    </tr>\n",
       "    <tr>\n",
       "      <th>min</th>\n",
       "      <td>1545.000000</td>\n",
       "      <td>1997.000000</td>\n",
       "      <td>0.000000</td>\n",
       "      <td>0.000000</td>\n",
       "      <td>1.000000</td>\n",
       "      <td>4.385000e+03</td>\n",
       "      <td>1.001020e+09</td>\n",
       "    </tr>\n",
       "    <tr>\n",
       "      <th>25%</th>\n",
       "      <td>98052.000000</td>\n",
       "      <td>2019.000000</td>\n",
       "      <td>0.000000</td>\n",
       "      <td>0.000000</td>\n",
       "      <td>18.000000</td>\n",
       "      <td>1.814743e+08</td>\n",
       "      <td>5.303301e+10</td>\n",
       "    </tr>\n",
       "    <tr>\n",
       "      <th>50%</th>\n",
       "      <td>98122.000000</td>\n",
       "      <td>2022.000000</td>\n",
       "      <td>0.000000</td>\n",
       "      <td>0.000000</td>\n",
       "      <td>33.000000</td>\n",
       "      <td>2.282522e+08</td>\n",
       "      <td>5.303303e+10</td>\n",
       "    </tr>\n",
       "    <tr>\n",
       "      <th>75%</th>\n",
       "      <td>98370.000000</td>\n",
       "      <td>2023.000000</td>\n",
       "      <td>75.000000</td>\n",
       "      <td>0.000000</td>\n",
       "      <td>42.000000</td>\n",
       "      <td>2.548445e+08</td>\n",
       "      <td>5.305307e+10</td>\n",
       "    </tr>\n",
       "    <tr>\n",
       "      <th>max</th>\n",
       "      <td>99577.000000</td>\n",
       "      <td>2024.000000</td>\n",
       "      <td>337.000000</td>\n",
       "      <td>845000.000000</td>\n",
       "      <td>49.000000</td>\n",
       "      <td>4.792548e+08</td>\n",
       "      <td>5.603300e+10</td>\n",
       "    </tr>\n",
       "  </tbody>\n",
       "</table>\n",
       "</div>"
      ],
      "text/plain": [
       "         Postal Code     Model Year  Electric Range      Base MSRP  \\\n",
       "count  177861.000000  177866.000000   177866.000000  177866.000000   \n",
       "mean    98172.453506    2020.515512       58.842162    1073.109363   \n",
       "std      2442.450668       2.989384       91.981298    8358.624956   \n",
       "min      1545.000000    1997.000000        0.000000       0.000000   \n",
       "25%     98052.000000    2019.000000        0.000000       0.000000   \n",
       "50%     98122.000000    2022.000000        0.000000       0.000000   \n",
       "75%     98370.000000    2023.000000       75.000000       0.000000   \n",
       "max     99577.000000    2024.000000      337.000000  845000.000000   \n",
       "\n",
       "       Legislative District  DOL Vehicle ID  2020 Census Tract  \n",
       "count         177477.000000    1.778660e+05       1.778610e+05  \n",
       "mean              29.127481    2.202313e+08       5.297672e+10  \n",
       "std               14.892169    7.584987e+07       1.578047e+09  \n",
       "min                1.000000    4.385000e+03       1.001020e+09  \n",
       "25%               18.000000    1.814743e+08       5.303301e+10  \n",
       "50%               33.000000    2.282522e+08       5.303303e+10  \n",
       "75%               42.000000    2.548445e+08       5.305307e+10  \n",
       "max               49.000000    4.792548e+08       5.603300e+10  "
      ]
     },
     "execution_count": 7,
     "metadata": {},
     "output_type": "execute_result"
    }
   ],
   "source": [
    "ev_population_df.describe()"
   ]
  },
  {
   "cell_type": "code",
   "execution_count": null,
   "id": "fdb3c774",
   "metadata": {},
   "outputs": [],
   "source": []
  },
  {
   "cell_type": "code",
   "execution_count": null,
   "id": "291e735d",
   "metadata": {},
   "outputs": [],
   "source": []
  },
  {
   "cell_type": "code",
   "execution_count": null,
   "id": "183d97c0",
   "metadata": {},
   "outputs": [],
   "source": []
  },
  {
   "cell_type": "code",
   "execution_count": null,
   "id": "190273f6",
   "metadata": {},
   "outputs": [],
   "source": []
  }
 ],
 "metadata": {
  "kernelspec": {
   "display_name": "EV-venv",
   "language": "python",
   "name": "python3"
  },
  "language_info": {
   "codemirror_mode": {
    "name": "ipython",
    "version": 3
   },
   "file_extension": ".py",
   "mimetype": "text/x-python",
   "name": "python",
   "nbconvert_exporter": "python",
   "pygments_lexer": "ipython3",
   "version": "3.12.10"
  }
 },
 "nbformat": 4,
 "nbformat_minor": 5
}
